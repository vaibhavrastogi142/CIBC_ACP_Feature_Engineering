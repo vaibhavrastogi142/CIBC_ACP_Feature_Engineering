{
 "cells": [
  {
   "cell_type": "markdown",
   "metadata": {},
   "source": [
    "### DATA CLEANING AND PREPARATION"
   ]
  },
  {
   "cell_type": "code",
   "execution_count": 6,
   "metadata": {},
   "outputs": [],
   "source": [
    "#getting libraries\n",
    "import numpy as np\n",
    "import pandas as pd\n",
    "import re\n",
    "\n",
    "import matplotlib.pyplot as plt\n",
    "import seaborn as sns\n",
    "\n",
    "from sklearn.feature_extraction.text import CountVectorizer, TfidfVectorizer\n",
    "from sklearn.decomposition import NMF, TruncatedSVD\n",
    "from sklearn.cluster import KMeans\n",
    "from sklearn.metrics import silhouette_score"
   ]
  },
  {
   "cell_type": "code",
   "execution_count": 7,
   "metadata": {},
   "outputs": [],
   "source": [
    "dfm = pd.read_csv('glassdoor_reviews.csv', encoding='cp1252')"
   ]
  },
  {
   "cell_type": "code",
   "execution_count": 8,
   "metadata": {},
   "outputs": [],
   "source": [
    "dfm = dfm.drop_duplicates()"
   ]
  },
  {
   "cell_type": "code",
   "execution_count": 9,
   "metadata": {},
   "outputs": [],
   "source": [
    "dfm_sub = dfm[['Negative_Review']]"
   ]
  },
  {
   "cell_type": "code",
   "execution_count": 10,
   "metadata": {},
   "outputs": [
    {
     "data": {
      "text/html": [
       "<div>\n",
       "<style scoped>\n",
       "    .dataframe tbody tr th:only-of-type {\n",
       "        vertical-align: middle;\n",
       "    }\n",
       "\n",
       "    .dataframe tbody tr th {\n",
       "        vertical-align: top;\n",
       "    }\n",
       "\n",
       "    .dataframe thead th {\n",
       "        text-align: right;\n",
       "    }\n",
       "</style>\n",
       "<table border=\"1\" class=\"dataframe\">\n",
       "  <thead>\n",
       "    <tr style=\"text-align: right;\">\n",
       "      <th></th>\n",
       "      <th>Negative_Review</th>\n",
       "    </tr>\n",
       "  </thead>\n",
       "  <tbody>\n",
       "    <tr>\n",
       "      <th>0</th>\n",
       "      <td>nothing to say about for cons</td>\n",
       "    </tr>\n",
       "    <tr>\n",
       "      <th>1</th>\n",
       "      <td>compensation is not on par with best</td>\n",
       "    </tr>\n",
       "    <tr>\n",
       "      <th>2</th>\n",
       "      <td>does not penalize on poor performance</td>\n",
       "    </tr>\n",
       "    <tr>\n",
       "      <th>3</th>\n",
       "      <td>being micro managed in the team</td>\n",
       "    </tr>\n",
       "    <tr>\n",
       "      <th>4</th>\n",
       "      <td>rating system if not up to the mark  even if y...</td>\n",
       "    </tr>\n",
       "  </tbody>\n",
       "</table>\n",
       "</div>"
      ],
      "text/plain": [
       "                                     Negative_Review\n",
       "0                      nothing to say about for cons\n",
       "1               compensation is not on par with best\n",
       "2              does not penalize on poor performance\n",
       "3                    being micro managed in the team\n",
       "4  rating system if not up to the mark  even if y..."
      ]
     },
     "execution_count": 10,
     "metadata": {},
     "output_type": "execute_result"
    }
   ],
   "source": [
    "dfm_sub.head()"
   ]
  },
  {
   "cell_type": "code",
   "execution_count": 11,
   "metadata": {},
   "outputs": [
    {
     "name": "stderr",
     "output_type": "stream",
     "text": [
      "C:\\Users\\vaibh\\Anaconda3x\\lib\\site-packages\\pandas\\core\\frame.py:3781: SettingWithCopyWarning: \n",
      "A value is trying to be set on a copy of a slice from a DataFrame\n",
      "\n",
      "See the caveats in the documentation: http://pandas.pydata.org/pandas-docs/stable/indexing.html#indexing-view-versus-copy\n",
      "  return super(DataFrame, self).rename(**kwargs)\n"
     ]
    }
   ],
   "source": [
    "dfm_sub.rename(columns={'Negative_Review':'ReviewText',\n",
    "                          }, \n",
    "                 inplace=True)"
   ]
  },
  {
   "cell_type": "code",
   "execution_count": 12,
   "metadata": {},
   "outputs": [],
   "source": [
    "df = dfm_sub\n"
   ]
  },
  {
   "cell_type": "code",
   "execution_count": 13,
   "metadata": {},
   "outputs": [
    {
     "data": {
      "text/html": [
       "<div>\n",
       "<style scoped>\n",
       "    .dataframe tbody tr th:only-of-type {\n",
       "        vertical-align: middle;\n",
       "    }\n",
       "\n",
       "    .dataframe tbody tr th {\n",
       "        vertical-align: top;\n",
       "    }\n",
       "\n",
       "    .dataframe thead th {\n",
       "        text-align: right;\n",
       "    }\n",
       "</style>\n",
       "<table border=\"1\" class=\"dataframe\">\n",
       "  <thead>\n",
       "    <tr style=\"text-align: right;\">\n",
       "      <th></th>\n",
       "      <th>ReviewText</th>\n",
       "    </tr>\n",
       "  </thead>\n",
       "  <tbody>\n",
       "    <tr>\n",
       "      <th>0</th>\n",
       "      <td>nothing to say about for cons</td>\n",
       "    </tr>\n",
       "    <tr>\n",
       "      <th>1</th>\n",
       "      <td>compensation is not on par with best</td>\n",
       "    </tr>\n",
       "    <tr>\n",
       "      <th>2</th>\n",
       "      <td>does not penalize on poor performance</td>\n",
       "    </tr>\n",
       "    <tr>\n",
       "      <th>3</th>\n",
       "      <td>being micro managed in the team</td>\n",
       "    </tr>\n",
       "    <tr>\n",
       "      <th>4</th>\n",
       "      <td>rating system if not up to the mark  even if y...</td>\n",
       "    </tr>\n",
       "  </tbody>\n",
       "</table>\n",
       "</div>"
      ],
      "text/plain": [
       "                                          ReviewText\n",
       "0                      nothing to say about for cons\n",
       "1               compensation is not on par with best\n",
       "2              does not penalize on poor performance\n",
       "3                    being micro managed in the team\n",
       "4  rating system if not up to the mark  even if y..."
      ]
     },
     "execution_count": 13,
     "metadata": {},
     "output_type": "execute_result"
    }
   ],
   "source": [
    "df.head()"
   ]
  },
  {
   "cell_type": "code",
   "execution_count": 14,
   "metadata": {},
   "outputs": [
    {
     "name": "stderr",
     "output_type": "stream",
     "text": [
      "C:\\Users\\vaibh\\Anaconda3x\\lib\\site-packages\\ipykernel_launcher.py:1: SettingWithCopyWarning: \n",
      "A value is trying to be set on a copy of a slice from a DataFrame.\n",
      "Try using .loc[row_indexer,col_indexer] = value instead\n",
      "\n",
      "See the caveats in the documentation: http://pandas.pydata.org/pandas-docs/stable/indexing.html#indexing-view-versus-copy\n",
      "  \"\"\"Entry point for launching an IPython kernel.\n",
      "C:\\Users\\vaibh\\Anaconda3x\\lib\\site-packages\\ipykernel_launcher.py:2: SettingWithCopyWarning: \n",
      "A value is trying to be set on a copy of a slice from a DataFrame.\n",
      "Try using .loc[row_indexer,col_indexer] = value instead\n",
      "\n",
      "See the caveats in the documentation: http://pandas.pydata.org/pandas-docs/stable/indexing.html#indexing-view-versus-copy\n",
      "  \n"
     ]
    }
   ],
   "source": [
    "df['ReviewTextLower'] = df.ReviewText\n",
    "df['ReviewTextLower'] = df.ReviewTextLower.str.lower()"
   ]
  },
  {
   "cell_type": "markdown",
   "metadata": {},
   "source": [
    "#### Preparing data for modelling using count vectorizer and tf-idf"
   ]
  },
  {
   "cell_type": "code",
   "execution_count": 15,
   "metadata": {},
   "outputs": [],
   "source": [
    "count_vectorizer = CountVectorizer(ngram_range=(1,2),  \n",
    "                                   stop_words='english', \n",
    "                                   token_pattern=\"\\\\b[a-z][a-z]+\\\\b\",\n",
    "                                   lowercase=True,\n",
    "                                   max_df = 0.6, max_features=4000)\n",
    "tfidf_vectorizer = TfidfVectorizer(ngram_range=(2,3),  \n",
    "                                   stop_words='english', \n",
    "                                   token_pattern=\"\\\\b[a-z][a-z]+\\\\b\",\n",
    "                                   lowercase=True,\n",
    "                                   max_df = 0.6, max_features=4000)\n",
    "\n",
    "cv_data = count_vectorizer.fit_transform(df.ReviewTextLower)\n",
    "tfidf_data = tfidf_vectorizer.fit_transform(df.ReviewTextLower)"
   ]
  },
  {
   "cell_type": "code",
   "execution_count": 16,
   "metadata": {},
   "outputs": [],
   "source": [
    "# def functions for topic modelings\n",
    "def display_topics(model, feature_names, no_top_words, topic_names=None):\n",
    "    for ix, topic in enumerate(model.components_):\n",
    "        if not topic_names or not topic_names[ix]:\n",
    "            print(\"\\nTopic \", ix)\n",
    "        else:\n",
    "            print(\"\\nTopic: '\",topic_names[ix],\"'\")\n",
    "        print(\", \".join([feature_names[i]\n",
    "                        for i in topic.argsort()[:-no_top_words - 1:-1]]))\n",
    "        \n",
    "def display_topics2(model, feature_names, no_top_words=10, topic_names = None):\n",
    "    for index, topic in enumerate(model.components_):\n",
    "        if not topic_names or not topic_names[index]:\n",
    "            print(f\"\\nTopic {index}\")\n",
    "        else:\n",
    "            print(f\"\\nTopic {topic_names[index]}:\")\n",
    "        msg = \", \".join([f'{feature_names[i]} ({topic[i]:6.4f})' \n",
    "                             for i in topic.argsort()[:-no_top_words-1:-1]])\n",
    "        print(msg)"
   ]
  },
  {
   "cell_type": "markdown",
   "metadata": {},
   "source": [
    "### Fitting the models to the data\n",
    "\n",
    "Here we are fitting LSA and NMF Models of Topic Modelling on data transformed via count vectorizer and TFIDF Methods"
   ]
  },
  {
   "cell_type": "code",
   "execution_count": 17,
   "metadata": {},
   "outputs": [],
   "source": [
    "n_comp = 5\n",
    "lsa_tfidf = TruncatedSVD(n_components=n_comp)\n",
    "lsa_cv = TruncatedSVD(n_components=n_comp)\n",
    "nmf_tfidf = NMF(n_components=n_comp)\n",
    "nmf_cv = NMF(n_components=n_comp)\n",
    "\n",
    "lsa_tfidf_data = lsa_tfidf.fit_transform(tfidf_data)\n",
    "lsa_cv_data = lsa_cv.fit_transform(cv_data)\n",
    "nmf_tfidf_data = nmf_tfidf.fit_transform(tfidf_data)\n",
    "nmf_cv_data = nmf_cv.fit_transform(cv_data)"
   ]
  },
  {
   "cell_type": "markdown",
   "metadata": {},
   "source": [
    "### LSA Model with TFIDF transformation"
   ]
  },
  {
   "cell_type": "code",
   "execution_count": 20,
   "metadata": {},
   "outputs": [
    {
     "name": "stdout",
     "output_type": "stream",
     "text": [
      "\n",
      "Topic 0\n",
      "work life (0.5783), life balance (0.5655)\n",
      "\n",
      "Topic 1\n",
      "long hours (0.9848), hard work (0.0436)\n",
      "\n",
      "Topic 2\n",
      "poor management (0.9459), rude customers (0.1962)\n",
      "\n",
      "Topic 3\n",
      "rude customers (0.8394), bad management (0.4313)\n",
      "\n",
      "Topic 4\n",
      "bad management (0.8746), low pay (0.0536)\n"
     ]
    }
   ],
   "source": [
    "display_topics2(lsa_tfidf, tfidf_vectorizer.get_feature_names(),2)"
   ]
  },
  {
   "cell_type": "markdown",
   "metadata": {},
   "source": [
    "### LSA Model with Count Vectorization"
   ]
  },
  {
   "cell_type": "code",
   "execution_count": 24,
   "metadata": {},
   "outputs": [
    {
     "name": "stdout",
     "output_type": "stream",
     "text": [
      "\n",
      "Topic 0\n",
      "good (0.7220), work (0.3788), pay (0.3082), great (0.1842), benefits (0.1599)\n",
      "\n",
      "Topic 1\n",
      "work (0.6940), great (0.3475), people (0.1522), easy (0.0877), place (0.0783)\n",
      "\n",
      "Topic 2\n",
      "great (0.5364), pay (0.5158), hours (0.1861), benefits (0.1708), decent (0.1457)\n",
      "\n",
      "Topic 3\n",
      "pay (0.4960), work (0.2595), decent (0.2242), easy (0.1577), hours (0.1557)\n",
      "\n",
      "Topic 4\n",
      "hours (0.6161), flexible (0.4482), flexible hours (0.2208), schedule (0.1557), job (0.1439)\n"
     ]
    }
   ],
   "source": [
    "display_topics2(lsa_cv, count_vectorizer.get_feature_names(),5)"
   ]
  },
  {
   "cell_type": "markdown",
   "metadata": {},
   "source": [
    "### NMF Model with TFIDF transformation"
   ]
  },
  {
   "cell_type": "code",
   "execution_count": 25,
   "metadata": {},
   "outputs": [
    {
     "name": "stdout",
     "output_type": "stream",
     "text": [
      "\n",
      "Topic 0\n",
      "good pay (2.8019), good pay good (0.3027), pay benefits (0.1538), good pay nice (0.1524), pay nice (0.1475), pay great (0.1447), good pay benefits (0.1369), hours good (0.1360)\n",
      "\n",
      "Topic 1\n",
      "place work (1.9599), good place (1.2870), good place work (1.1451), great place (0.5862), great place work (0.5607), best place work (0.0858), best place (0.0844), fun place work (0.0784)\n",
      "\n",
      "Topic 2\n",
      "work life (1.3582), life balance (1.2827), work life balance (1.2799), good work (0.6877), good work life (0.4287), great work (0.2215), life balance good (0.2010), balance good (0.2010)\n",
      "\n",
      "Topic 3\n",
      "people work (1.9985), great people (1.0546), great people work (0.7966), good people (0.4110), good people work (0.3006), nice people (0.2412), nice people work (0.1949), flexible hours (0.1022)\n",
      "\n",
      "Topic 4\n",
      "pay good (1.8862), good benefits (0.7328), good hours (0.5624), good pay good (0.5617), decent pay (0.3706), pay good hours (0.3705), flexible schedule (0.2191), decent pay good (0.1952)\n"
     ]
    }
   ],
   "source": [
    "display_topics2(nmf_tfidf, tfidf_vectorizer.get_feature_names(),8)"
   ]
  },
  {
   "cell_type": "markdown",
   "metadata": {},
   "source": [
    "### NMF Model with count vectorization"
   ]
  },
  {
   "cell_type": "code",
   "execution_count": 26,
   "metadata": {},
   "outputs": [
    {
     "name": "stdout",
     "output_type": "stream",
     "text": [
      "\n",
      "Topic 0\n",
      "good (8.5611), benefits (0.9793), good pay (0.8792), good benefits (0.7142), pay good (0.4984)\n",
      "\n",
      "Topic 1\n",
      "work (6.2287), people (0.7048), life (0.6886), easy (0.6580), place (0.6490)\n",
      "\n",
      "Topic 2\n",
      "pay (6.0159), decent (1.5036), good pay (1.1819), decent pay (0.8719), benefits (0.7591)\n",
      "\n",
      "Topic 3\n",
      "great (5.5202), people (1.2895), benefits (0.9453), great people (0.5838), great benefits (0.5228)\n",
      "\n",
      "Topic 4\n",
      "hours (4.0351), flexible (2.7681), flexible hours (1.3047), schedule (1.0462), job (0.7729)\n"
     ]
    }
   ],
   "source": [
    "display_topics2(nmf_cv, count_vectorizer.get_feature_names(),5)"
   ]
  }
 ],
 "metadata": {
  "kernelspec": {
   "display_name": "Python 3",
   "language": "python",
   "name": "python3"
  },
  "language_info": {
   "codemirror_mode": {
    "name": "ipython",
    "version": 3
   },
   "file_extension": ".py",
   "mimetype": "text/x-python",
   "name": "python",
   "nbconvert_exporter": "python",
   "pygments_lexer": "ipython3",
   "version": "3.7.1"
  }
 },
 "nbformat": 4,
 "nbformat_minor": 2
}
